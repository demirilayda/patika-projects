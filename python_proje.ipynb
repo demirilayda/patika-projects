{
 "cells": [
  {
   "cell_type": "code",
   "execution_count": 16,
   "id": "e74e630c",
   "metadata": {},
   "outputs": [],
   "source": [
    "l =[[[1,'a',['cat'],2],[[[3]],'dog'],4,5]]"
   ]
  },
  {
   "cell_type": "code",
   "execution_count": 17,
   "id": "fd4e278c",
   "metadata": {},
   "outputs": [],
   "source": [
    "def flatten_list(l):\n",
    "    result = []\n",
    "    for e in l:\n",
    "        if isinstance(e, list):\n",
    "            result.extend(flatten_list(e))\n",
    "        else:\n",
    "            result.append(e)\n",
    "    return result"
   ]
  },
  {
   "cell_type": "code",
   "execution_count": 18,
   "id": "50789515",
   "metadata": {},
   "outputs": [
    {
     "data": {
      "text/plain": [
       "[1, 'a', 'cat', 2, 3, 'dog', 4, 5]"
      ]
     },
     "execution_count": 18,
     "metadata": {},
     "output_type": "execute_result"
    }
   ],
   "source": [
    "flatten_list(l)"
   ]
  },
  {
   "cell_type": "code",
   "execution_count": 19,
   "id": "26e3d758",
   "metadata": {},
   "outputs": [],
   "source": [
    "mylist=[[1, 2], [3, 4], [5, 6, 7]]"
   ]
  },
  {
   "cell_type": "code",
   "execution_count": 28,
   "id": "62ac5434",
   "metadata": {},
   "outputs": [],
   "source": [
    "def list_reverse(mylist):\n",
    "    res = []\n",
    "    for e in mylist:\n",
    "        if isinstance(e, list):\n",
    "            res.append(list_reverse(e))\n",
    "        else:\n",
    "            res.append(e)\n",
    "    res.reverse()\n",
    "    return res"
   ]
  },
  {
   "cell_type": "code",
   "execution_count": 29,
   "id": "c15fde9b",
   "metadata": {},
   "outputs": [
    {
     "data": {
      "text/plain": [
       "[[7, 6, 5], [4, 3], [2, 1]]"
      ]
     },
     "execution_count": 29,
     "metadata": {},
     "output_type": "execute_result"
    }
   ],
   "source": [
    "list_reverse(mylist)"
   ]
  }
 ],
 "metadata": {
  "kernelspec": {
   "display_name": "Python 3 (ipykernel)",
   "language": "python",
   "name": "python3"
  },
  "language_info": {
   "codemirror_mode": {
    "name": "ipython",
    "version": 3
   },
   "file_extension": ".py",
   "mimetype": "text/x-python",
   "name": "python",
   "nbconvert_exporter": "python",
   "pygments_lexer": "ipython3",
   "version": "3.10.10"
  }
 },
 "nbformat": 4,
 "nbformat_minor": 5
}
